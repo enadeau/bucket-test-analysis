{
 "cells": [
  {
   "cell_type": "code",
   "execution_count": 1,
   "metadata": {},
   "outputs": [],
   "source": [
    "from pandas import DataFrame, Series\n",
    "import pandas as pd\n",
    "from scipy import stats\n",
    "from matplotlib import pyplot as plt\n",
    "from matplotlib.ticker import PercentFormatter\n",
    "CONTROL_GROUP = 0\n",
    "CONTROL_COLOR ='blue'\n",
    "TEST_GROUP = 1\n",
    "TEST_COLOR = 'green'\n",
    "GROUP_DICT = {0: 'Control', 1: 'Test'}"
   ]
  },
  {
   "cell_type": "code",
   "execution_count": 2,
   "metadata": {},
   "outputs": [],
   "source": [
    "#Data Loading\n",
    "customer_df = pd.read_csv('testSamples.csv', index_col='sample_id')\n",
    "trans_df = pd.read_csv('transData.csv', index_col='transaction_id')"
   ]
  },
  {
   "cell_type": "code",
   "execution_count": 3,
   "metadata": {},
   "outputs": [
    {
     "name": "stdout",
     "output_type": "stream",
     "text": [
      "[0 1]\n",
      "['REBILL' 'CHARGEBACK' 'REFUND']\n"
     ]
    }
   ],
   "source": [
    "#Sanity Check\n",
    "print(customer_df['test_group'].unique())\n",
    "print(trans_df['transaction_type'].unique())"
   ]
  },
  {
   "cell_type": "markdown",
   "metadata": {},
   "source": [
    "## Premilinary consideration\n",
    "\n",
    "- In the uncertainty of the target audience of this reports, I assume a basic stats knowledge from the reader. I hope that it was what I was supposed to do.\n",
    "- For me it was unclear wath I was supposed to do with de cutomer that does not have any recorded transaction. I decided to removed them from the dataset for question 2,3,4 about transactional behaviour. This would be a good choice if for example they where randomized recently and we did not have the time to get transaction information about them. With more context, I should have take anothe decision."
   ]
  },
  {
   "cell_type": "markdown",
   "metadata": {},
   "source": [
    "## Question 1\n",
    "\n",
    "What is the aproximate probability distribution between the test group and the control group"
   ]
  },
  {
   "cell_type": "code",
   "execution_count": 4,
   "metadata": {},
   "outputs": [
    {
     "data": {
      "text/plain": [
       "Mean(statistic=0.24840508363892097, minmax=(0.2449396569789553, 0.25187051029888663))"
      ]
     },
     "execution_count": 4,
     "metadata": {},
     "output_type": "execute_result"
    }
   ],
   "source": [
    "pvalue = 0.05\n",
    "conf_int = stats.bayes_mvs(customer_df['test_group'],1-pvalue)[0]\n",
    "conf_int"
   ]
  },
  {
   "cell_type": "code",
   "execution_count": 5,
   "metadata": {},
   "outputs": [
    {
     "data": {
      "text/plain": [
       "0.003465426659965659"
      ]
     },
     "execution_count": 5,
     "metadata": {},
     "output_type": "execute_result"
    }
   ],
   "source": [
    "conf_int[0]-conf_int[1][0] #error margin"
   ]
  },
  {
   "cell_type": "markdown",
   "metadata": {},
   "source": [
    "Since the group attribuation is made following an unbalanced coins flip, it follows a Bernouilli distrubution wiht probability $p$ of being in the test group. The probability $p$ is given by the expoected value of the distribution. Therefore the parameter $p$ of the distibution is $0.2484 \\pm 0.0035$, $95\\%$ of the time."
   ]
  },
  {
   "cell_type": "markdown",
   "metadata": {},
   "source": [
    "## Question 2: \n",
    "__Is a user that must call-in to cancel more likely to generate at least 1 addition REBILL?__"
   ]
  },
  {
   "cell_type": "code",
   "execution_count": 6,
   "metadata": {},
   "outputs": [],
   "source": [
    "trans_df['is_rebill'] = (trans_df['transaction_type'] == 'REBILL')"
   ]
  },
  {
   "cell_type": "code",
   "execution_count": 7,
   "metadata": {},
   "outputs": [],
   "source": [
    "customer_df['have_rebill'] = trans_df[['sample_id', 'is_rebill']].groupby(['sample_id']).any()\n",
    "customer_df.dropna(inplace=True) #User with no transaction are removed from the customer table"
   ]
  },
  {
   "cell_type": "code",
   "execution_count": 8,
   "metadata": {},
   "outputs": [
    {
     "data": {
      "text/html": [
       "<div>\n",
       "<style scoped>\n",
       "    .dataframe tbody tr th:only-of-type {\n",
       "        vertical-align: middle;\n",
       "    }\n",
       "\n",
       "    .dataframe tbody tr th {\n",
       "        vertical-align: top;\n",
       "    }\n",
       "\n",
       "    .dataframe thead th {\n",
       "        text-align: right;\n",
       "    }\n",
       "</style>\n",
       "<table border=\"1\" class=\"dataframe\">\n",
       "  <thead>\n",
       "    <tr style=\"text-align: right;\">\n",
       "      <th>have_rebill</th>\n",
       "      <th>No</th>\n",
       "      <th>Yes</th>\n",
       "    </tr>\n",
       "    <tr>\n",
       "      <th>test_group</th>\n",
       "      <th></th>\n",
       "      <th></th>\n",
       "    </tr>\n",
       "  </thead>\n",
       "  <tbody>\n",
       "    <tr>\n",
       "      <th>Control</th>\n",
       "      <td>138</td>\n",
       "      <td>941</td>\n",
       "    </tr>\n",
       "    <tr>\n",
       "      <th>Test</th>\n",
       "      <td>79</td>\n",
       "      <td>1556</td>\n",
       "    </tr>\n",
       "  </tbody>\n",
       "</table>\n",
       "</div>"
      ],
      "text/plain": [
       "have_rebill   No   Yes\n",
       "test_group            \n",
       "Control      138   941\n",
       "Test          79  1556"
      ]
     },
     "execution_count": 8,
     "metadata": {},
     "output_type": "execute_result"
    }
   ],
   "source": [
    "contigency_table = customer_df.groupby(['test_group', 'have_rebill']).size().unstack()\n",
    "contigency_table.rename(columns={False: 'No', True: 'Yes'}, index=GROUP_DICT, inplace=True)\n",
    "contigency_table"
   ]
  },
  {
   "cell_type": "code",
   "execution_count": 9,
   "metadata": {},
   "outputs": [
    {
     "data": {
      "text/plain": [
       "(54.88098606287686,\n",
       " 1.2805387468455995e-13,\n",
       " 1,\n",
       " array([[  86.27229182,  992.72770818],\n",
       "        [ 130.72770818, 1504.27229182]]))"
      ]
     },
     "execution_count": 9,
     "metadata": {},
     "output_type": "execute_result"
    }
   ],
   "source": [
    "stats.chi2_contingency(contigency_table)"
   ]
  },
  {
   "cell_type": "code",
   "execution_count": 10,
   "metadata": {},
   "outputs": [
    {
     "data": {
      "image/png": "[encoded data removed]",
      "text/plain": [
       "<Figure size 432x288 with 1 Axes>"
      ]
     },
     "metadata": {},
     "output_type": "display_data"
    }
   ],
   "source": [
    "fig, ax = plt.subplots()\n",
    "ypos = [1,2]\n",
    "plt.bar(ypos, contigency_table['Yes']/contigency_table.sum(axis=1), align='center', alpha=0.7, \n",
    "        color=[CONTROL_COLOR, TEST_COLOR])\n",
    "plt.xticks(ypos, ['Control group', 'Test group'])\n",
    "plt.ylabel('Proportion of rebilling customers')\n",
    "ax.yaxis.set_major_formatter(PercentFormatter(1))\n",
    "plt.show()"
   ]
  },
  {
   "cell_type": "markdown",
   "metadata": {},
   "source": [
    "__ANSWER:__\n",
    "A user that need to call in much more likelly to make at least one rebill operation. We first  determine using the transactions datat if a user as conduct a rebill transaction. A user with no transaction is considered as a user with no rebill transaction. We conduct à chi squared test to test the indepedance between the group attribution and the likelohood of making a  rebill transaction. The outcome is a p-value of almost zero. Therefore with very high probability being required to cancel by phone impact the likeklihood et rebilling. Since the proportion of rebilling is much higer in the test group (see the plot above), requiring to call for cancelling increase the chances of seeing a rebill transaction."
   ]
  },
  {
   "cell_type": "markdown",
   "metadata": {},
   "source": [
    "## Question 3\n",
    "__Is a user that must call-in to cancel more likely to generate more revenues?__"
   ]
  },
  {
   "cell_type": "code",
   "execution_count": 11,
   "metadata": {},
   "outputs": [],
   "source": [
    "#Add the revenue generated by each customer to the customer df\n",
    "customer_df['generated_revenue'] = trans_df[['sample_id', 'transaction_amount']].groupby('sample_id').sum()"
   ]
  },
  {
   "cell_type": "code",
   "execution_count": 12,
   "metadata": {},
   "outputs": [],
   "source": [
    "test_rev = customer_df.loc[customer_df['test_group']==TEST_GROUP, 'generated_revenue']\n",
    "ctrl_rev = customer_df.loc[customer_df['test_group']==CONTROL_GROUP, 'generated_revenue']"
   ]
  },
  {
   "cell_type": "code",
   "execution_count": 13,
   "metadata": {},
   "outputs": [
    {
     "data": {
      "image/png": "[encoded data removed]",
      "text/plain": [
       "<Figure size 432x288 with 1 Axes>"
      ]
     },
     "metadata": {},
     "output_type": "display_data"
    }
   ],
   "source": [
    "test_rev.plot(kind='kde', color=TEST_COLOR)\n",
    "ctrl_rev.plot(kind='kde', color=CONTROL_COLOR)\n",
    "plt.xlabel('Revenue')\n",
    "plt.show()"
   ]
  },
  {
   "cell_type": "code",
   "execution_count": 14,
   "metadata": {},
   "outputs": [
    {
     "data": {
      "text/html": [
       "<div>\n",
       "<style scoped>\n",
       "    .dataframe tbody tr th:only-of-type {\n",
       "        vertical-align: middle;\n",
       "    }\n",
       "\n",
       "    .dataframe tbody tr th {\n",
       "        vertical-align: top;\n",
       "    }\n",
       "\n",
       "    .dataframe thead tr th {\n",
       "        text-align: left;\n",
       "    }\n",
       "\n",
       "    .dataframe thead tr:last-of-type th {\n",
       "        text-align: right;\n",
       "    }\n",
       "</style>\n",
       "<table border=\"1\" class=\"dataframe\">\n",
       "  <thead>\n",
       "    <tr>\n",
       "      <th></th>\n",
       "      <th colspan=\"8\" halign=\"left\">generated_revenue</th>\n",
       "    </tr>\n",
       "    <tr>\n",
       "      <th></th>\n",
       "      <th>count</th>\n",
       "      <th>mean</th>\n",
       "      <th>std</th>\n",
       "      <th>min</th>\n",
       "      <th>25%</th>\n",
       "      <th>50%</th>\n",
       "      <th>75%</th>\n",
       "      <th>max</th>\n",
       "    </tr>\n",
       "    <tr>\n",
       "      <th>test_group</th>\n",
       "      <th></th>\n",
       "      <th></th>\n",
       "      <th></th>\n",
       "      <th></th>\n",
       "      <th></th>\n",
       "      <th></th>\n",
       "      <th></th>\n",
       "      <th></th>\n",
       "    </tr>\n",
       "  </thead>\n",
       "  <tbody>\n",
       "    <tr>\n",
       "      <th>0</th>\n",
       "      <td>1079.0</td>\n",
       "      <td>83.261260</td>\n",
       "      <td>103.132542</td>\n",
       "      <td>-263.60</td>\n",
       "      <td>24.95</td>\n",
       "      <td>65.90</td>\n",
       "      <td>124.75</td>\n",
       "      <td>593.1</td>\n",
       "    </tr>\n",
       "    <tr>\n",
       "      <th>1</th>\n",
       "      <td>1635.0</td>\n",
       "      <td>58.369113</td>\n",
       "      <td>54.454643</td>\n",
       "      <td>-199.75</td>\n",
       "      <td>29.95</td>\n",
       "      <td>39.95</td>\n",
       "      <td>79.90</td>\n",
       "      <td>399.5</td>\n",
       "    </tr>\n",
       "  </tbody>\n",
       "</table>\n",
       "</div>"
      ],
      "text/plain": [
       "           generated_revenue                                               \\\n",
       "                       count       mean         std     min    25%    50%   \n",
       "test_group                                                                  \n",
       "0                     1079.0  83.261260  103.132542 -263.60  24.95  65.90   \n",
       "1                     1635.0  58.369113   54.454643 -199.75  29.95  39.95   \n",
       "\n",
       "                           \n",
       "               75%    max  \n",
       "test_group                 \n",
       "0           124.75  593.1  \n",
       "1            79.90  399.5  "
      ]
     },
     "execution_count": 14,
     "metadata": {},
     "output_type": "execute_result"
    }
   ],
   "source": [
    "customer_df.groupby('test_group').describe()"
   ]
  },
  {
   "cell_type": "code",
   "execution_count": 15,
   "metadata": {},
   "outputs": [
    {
     "data": {
      "text/plain": [
       "Ttest_indResult(statistic=-7.286253698832153, pvalue=5.166162772331778e-13)"
      ]
     },
     "execution_count": 15,
     "metadata": {},
     "output_type": "execute_result"
    }
   ],
   "source": [
    "stats.ttest_ind(test_rev, ctrl_rev, equal_var=False)"
   ]
  },
  {
   "cell_type": "markdown",
   "metadata": {},
   "source": [
    "__ANSWER:__\n",
    "As we can see on the above plot, the control group as distribution with a larger variance that the test group. Moreover, the means of the revenue for the test group is $58.37\\$$ but $83.26\\$$ for the control group. Using central limit theorem, we can assume that Using a Welch's t-test, we can see that it is almost certainly a significant difference since the p-value is nearly $0$."
   ]
  },
  {
   "cell_type": "markdown",
   "metadata": {},
   "source": [
    "## Question 4\n",
    "__Is a user that must call-in more likely to produce a higher chargeback rate(CHARGEBACKs/REBILLs)?__"
   ]
  },
  {
   "cell_type": "code",
   "execution_count": 16,
   "metadata": {},
   "outputs": [],
   "source": [
    "trans_count_by_user = trans_df.groupby(['sample_id','transaction_type']).count().unstack(fill_value=0)['transaction_amount']"
   ]
  },
  {
   "cell_type": "code",
   "execution_count": 17,
   "metadata": {},
   "outputs": [],
   "source": [
    "#Removed customer that have not rebill since it makes no sense to compute the ration in these cases\n",
    "customer_df = customer_df[customer_df['have_rebill'] > 0]"
   ]
  },
  {
   "cell_type": "code",
   "execution_count": 18,
   "metadata": {},
   "outputs": [],
   "source": [
    "#Add rates to customer table\n",
    "rates = trans_count_by_user['CHARGEBACK']/trans_count_by_user['REBILL']\n",
    "rates.name = 'C/R rate'\n",
    "customer_df = customer_df.join(rates, how='left')"
   ]
  },
  {
   "cell_type": "code",
   "execution_count": 19,
   "metadata": {},
   "outputs": [
    {
     "data": {
      "text/html": [
       "<div>\n",
       "<style scoped>\n",
       "    .dataframe tbody tr th:only-of-type {\n",
       "        vertical-align: middle;\n",
       "    }\n",
       "\n",
       "    .dataframe tbody tr th {\n",
       "        vertical-align: top;\n",
       "    }\n",
       "\n",
       "    .dataframe thead tr th {\n",
       "        text-align: left;\n",
       "    }\n",
       "\n",
       "    .dataframe thead tr:last-of-type th {\n",
       "        text-align: right;\n",
       "    }\n",
       "</style>\n",
       "<table border=\"1\" class=\"dataframe\">\n",
       "  <thead>\n",
       "    <tr>\n",
       "      <th></th>\n",
       "      <th colspan=\"8\" halign=\"left\">C/R rate</th>\n",
       "    </tr>\n",
       "    <tr>\n",
       "      <th></th>\n",
       "      <th>count</th>\n",
       "      <th>mean</th>\n",
       "      <th>std</th>\n",
       "      <th>min</th>\n",
       "      <th>25%</th>\n",
       "      <th>50%</th>\n",
       "      <th>75%</th>\n",
       "      <th>max</th>\n",
       "    </tr>\n",
       "    <tr>\n",
       "      <th>test_group</th>\n",
       "      <th></th>\n",
       "      <th></th>\n",
       "      <th></th>\n",
       "      <th></th>\n",
       "      <th></th>\n",
       "      <th></th>\n",
       "      <th></th>\n",
       "      <th></th>\n",
       "    </tr>\n",
       "  </thead>\n",
       "  <tbody>\n",
       "    <tr>\n",
       "      <th>0</th>\n",
       "      <td>941.0</td>\n",
       "      <td>0.001417</td>\n",
       "      <td>0.034351</td>\n",
       "      <td>0.0</td>\n",
       "      <td>0.0</td>\n",
       "      <td>0.0</td>\n",
       "      <td>0.0</td>\n",
       "      <td>1.0</td>\n",
       "    </tr>\n",
       "    <tr>\n",
       "      <th>1</th>\n",
       "      <td>1556.0</td>\n",
       "      <td>0.003642</td>\n",
       "      <td>0.059059</td>\n",
       "      <td>0.0</td>\n",
       "      <td>0.0</td>\n",
       "      <td>0.0</td>\n",
       "      <td>0.0</td>\n",
       "      <td>1.0</td>\n",
       "    </tr>\n",
       "  </tbody>\n",
       "</table>\n",
       "</div>"
      ],
      "text/plain": [
       "           C/R rate                                             \n",
       "              count      mean       std  min  25%  50%  75%  max\n",
       "test_group                                                      \n",
       "0             941.0  0.001417  0.034351  0.0  0.0  0.0  0.0  1.0\n",
       "1            1556.0  0.003642  0.059059  0.0  0.0  0.0  0.0  1.0"
      ]
     },
     "execution_count": 19,
     "metadata": {},
     "output_type": "execute_result"
    }
   ],
   "source": [
    "customer_df[['test_group', 'C/R rate']].groupby('test_group').describe()"
   ]
  },
  {
   "cell_type": "code",
   "execution_count": 20,
   "metadata": {},
   "outputs": [
    {
     "data": {
      "text/plain": [
       "Ttest_indResult(statistic=1.1899918180242783, pvalue=0.2341629836409407)"
      ]
     },
     "execution_count": 20,
     "metadata": {},
     "output_type": "execute_result"
    }
   ],
   "source": [
    "#Test for mean difference significance\n",
    "test_rates = customer_df[customer_df['test_group']==TEST_GROUP]['C/R rate'].values\n",
    "ctrl_rates = customer_df[customer_df['test_group']==CONTROL_GROUP]['C/R rate'].values\n",
    "stats.ttest_ind(test_rates, ctrl_rates, equal_var=False)"
   ]
  },
  {
   "cell_type": "code",
   "execution_count": 21,
   "metadata": {},
   "outputs": [
    {
     "data": {
      "text/plain": [
       "0.9967961553864637"
      ]
     },
     "execution_count": 21,
     "metadata": {},
     "output_type": "execute_result"
    }
   ],
   "source": [
    "#Proportion of zero rate\n",
    "customer_df[customer_df['C/R rate']==0].shape[0] / customer_df.shape[0]"
   ]
  },
  {
   "cell_type": "markdown",
   "metadata": {},
   "source": [
    "__ANSWER:__\n",
    "    With the current data it is not really possible to answer the question. Even if the mean is bigger for the test group, the p-value of 0.23 tells us to consider carefully the results. In fact the chargeback/rebill rates is zero for almost all our customer. To answer this question, more data collection is needed."
   ]
  },
  {
   "cell_type": "code",
   "execution_count": null,
   "metadata": {},
   "outputs": [],
   "source": []
  }
 ],
 "metadata": {
  "kernelspec": {
   "display_name": "Python 3",
   "language": "python",
   "name": "python3"
  },
  "language_info": {
   "codemirror_mode": {
    "name": "ipython",
    "version": 3
   },
   "file_extension": ".py",
   "mimetype": "text/x-python",
   "name": "python",
   "nbconvert_exporter": "python",
   "pygments_lexer": "ipython3",
   "version": "3.6.5"
  }
 },
 "nbformat": 4,
 "nbformat_minor": 2
}
